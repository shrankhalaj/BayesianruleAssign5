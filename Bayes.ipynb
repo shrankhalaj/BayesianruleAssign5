{
 "cells": [
  {
   "cell_type": "markdown",
   "metadata": {},
   "source": [
    "## Bayesian \n"
   ]
  },
  {
   "cell_type": "markdown",
   "metadata": {},
   "source": [
    "#Discrete Probability Distribution using Bayesian, which uses subjective probability which describes beliefs about unknown quantities.And the method used is through probability distribution. a Spinner is used as a example which is divided into sev eral regions and opt for various outcomes.\n",
    "#Package Used- \"TeachBayes\" (available on CRAN).The Special functions for Bayes'rule are-  Learning baout a proportion and a mean and comparing two proportions.Subjective probabiltiy means the probability is used to describe beliefs about unknown quantities. This is done through probability distributions."
   ]
  },
  {
   "cell_type": "code",
   "execution_count": 6,
   "metadata": {
    "scrolled": false
   },
   "outputs": [
    {
     "name": "stderr",
     "output_type": "stream",
     "text": [
      "Warning message:\n",
      "\"package 'TeachBayes' was built under R version 3.4.3\"Loading required package: LearnBayes\n",
      "Loading required package: ggplot2\n",
      "Loading required package: gridExtra\n",
      "Warning message:\n",
      "\"package 'gridExtra' was built under R version 3.4.3\"Loading required package: dplyr\n",
      "\n",
      "Attaching package: 'dplyr'\n",
      "\n",
      "The following object is masked from 'package:gridExtra':\n",
      "\n",
      "    combine\n",
      "\n",
      "The following objects are masked from 'package:stats':\n",
      "\n",
      "    filter, lag\n",
      "\n",
      "The following objects are masked from 'package:base':\n",
      "\n",
      "    intersect, setdiff, setequal, union\n",
      "\n",
      "Loading required package: shiny\n",
      "Warning message:\n",
      "\"package 'shiny' was built under R version 3.4.3\""
     ]
    },
    {
     "data": {},
     "metadata": {},
     "output_type": "display_data"
    },
    {
     "data": {
      "image/png": "[encoded data removed]",
      "text/plain": [
       "plot without title"
      ]
     },
     "metadata": {},
     "output_type": "display_data"
    }
   ],
   "source": [
    "library(TeachBayes)\n",
    "# construct the spinner by specifying the areas of the spinner regions\n",
    "areas <- c(2,1,2,1,2)\n",
    "spinner_plot(areas)\n"
   ]
  },
  {
   "cell_type": "markdown",
   "metadata": {},
   "source": [
    "This indicates the area of region 1,3 and 5 are twice that of region 2 and 4"
   ]
  },
  {
   "cell_type": "code",
   "execution_count": 7,
   "metadata": {},
   "outputs": [
    {
     "data": {
      "text/html": [
       "<table>\n",
       "<thead><tr><th scope=col>Region</th><th scope=col>areas</th><th scope=col>Probability</th></tr></thead>\n",
       "<tbody>\n",
       "\t<tr><td>1    </td><td>2    </td><td>0.250</td></tr>\n",
       "\t<tr><td>2    </td><td>1    </td><td>0.125</td></tr>\n",
       "\t<tr><td>3    </td><td>2    </td><td>0.250</td></tr>\n",
       "\t<tr><td>4    </td><td>1    </td><td>0.125</td></tr>\n",
       "\t<tr><td>5    </td><td>2    </td><td>0.250</td></tr>\n",
       "</tbody>\n",
       "</table>\n"
      ],
      "text/latex": [
       "\\begin{tabular}{r|lll}\n",
       " Region & areas & Probability\\\\\n",
       "\\hline\n",
       "\t 1     & 2     & 0.250\\\\\n",
       "\t 2     & 1     & 0.125\\\\\n",
       "\t 3     & 2     & 0.250\\\\\n",
       "\t 4     & 1     & 0.125\\\\\n",
       "\t 5     & 2     & 0.250\\\\\n",
       "\\end{tabular}\n"
      ],
      "text/markdown": [
       "\n",
       "Region | areas | Probability | \n",
       "|---|---|---|---|---|\n",
       "| 1     | 2     | 0.250 | \n",
       "| 2     | 1     | 0.125 | \n",
       "| 3     | 2     | 0.250 | \n",
       "| 4     | 1     | 0.125 | \n",
       "| 5     | 2     | 0.250 | \n",
       "\n",
       "\n"
      ],
      "text/plain": [
       "  Region areas Probability\n",
       "1 1      2     0.250      \n",
       "2 2      1     0.125      \n",
       "3 3      2     0.250      \n",
       "4 4      1     0.125      \n",
       "5 5      2     0.250      "
      ]
     },
     "metadata": {},
     "output_type": "display_data"
    }
   ],
   "source": [
    "#Construct probability distribution\n",
    "df <- data.frame(Region =  1:5, areas, Probability = areas/sum(areas))\n",
    "df"
   ]
  },
  {
   "cell_type": "code",
   "execution_count": 8,
   "metadata": {},
   "outputs": [
    {
     "data": {
      "text/html": [
       "1"
      ],
      "text/latex": [
       "1"
      ],
      "text/markdown": [
       "1"
      ],
      "text/plain": [
       "[1] 1"
      ]
     },
     "metadata": {},
     "output_type": "display_data"
    }
   ],
   "source": [
    "#Numerical scale for probabilities\n",
    "# To interpret the probabilities under a scale from 0 to 1 where 0 means impossible and 1 means certain\n",
    "sum(df$Probability)"
   ]
  },
  {
   "cell_type": "markdown",
   "metadata": {},
   "source": [
    "sum of the probability is 1 and the probability of regions 1,3 and 5 are more likely to spin, since their probabilities are higher and regions 2 and 4 are less likely to spin, since their probabilities are lower."
   ]
  },
  {
   "cell_type": "code",
   "execution_count": 9,
   "metadata": {},
   "outputs": [
    {
     "data": {},
     "metadata": {},
     "output_type": "display_data"
    },
    {
     "data": {
      "text/plain": [
       "spins\n",
       "  1   2   3   4   5 \n",
       "255 115 266 115 249 "
      ]
     },
     "metadata": {},
     "output_type": "display_data"
    },
    {
     "data": {
      "image/png": "[encoded data removed]",
      "text/plain": [
       "plot without title"
      ]
     },
     "metadata": {},
     "output_type": "display_data"
    }
   ],
   "source": [
    "#Simulating spinner data\n",
    "spins <- spinner_data(areas)\n",
    "bar_plot(spins)\n",
    "table(spins)"
   ]
  },
  {
   "cell_type": "markdown",
   "metadata": {},
   "source": [
    "Simulation helps to learn about the probabilities, even in situations where the exact probabilities are not known."
   ]
  },
  {
   "cell_type": "markdown",
   "metadata": {},
   "source": [
    "### Bayes'rule\n",
    "It helps in learning about the unknown quantity of the data.Identify list of possible models and assign probabilities that reflect the belief about the relative possibility of the models. Collect data and find likelihoods, that is the chance of getting the data for each model. "
   ]
  },
  {
   "cell_type": "code",
   "execution_count": 10,
   "metadata": {},
   "outputs": [
    {
     "data": {
      "text/html": [
       "<table>\n",
       "<thead><tr><th scope=col>Model</th></tr></thead>\n",
       "<tbody>\n",
       "\t<tr><td>Spinner A</td></tr>\n",
       "\t<tr><td>Spinner B</td></tr>\n",
       "\t<tr><td>Spinner C</td></tr>\n",
       "\t<tr><td>Spinner D</td></tr>\n",
       "</tbody>\n",
       "</table>\n"
      ],
      "text/latex": [
       "\\begin{tabular}{r|l}\n",
       " Model\\\\\n",
       "\\hline\n",
       "\t Spinner A\\\\\n",
       "\t Spinner B\\\\\n",
       "\t Spinner C\\\\\n",
       "\t Spinner D\\\\\n",
       "\\end{tabular}\n"
      ],
      "text/markdown": [
       "\n",
       "Model | \n",
       "|---|---|---|---|\n",
       "| Spinner A | \n",
       "| Spinner B | \n",
       "| Spinner C | \n",
       "| Spinner D | \n",
       "\n",
       "\n"
      ],
      "text/plain": [
       "  Model    \n",
       "1 Spinner A\n",
       "2 Spinner B\n",
       "3 Spinner C\n",
       "4 Spinner D"
      ]
     },
     "metadata": {},
     "output_type": "display_data"
    }
   ],
   "source": [
    "bayes_df <- data.frame(Model = paste(\"Spinner\",c(\"A\",\"B\",\"C\",\"D\")))\n",
    "bayes_df"
   ]
  },
  {
   "cell_type": "markdown",
   "metadata": {},
   "source": [
    "Probabilities are assigned to each model that shows the opinion about the likelihood for these spinners."
   ]
  },
  {
   "cell_type": "code",
   "execution_count": 11,
   "metadata": {},
   "outputs": [
    {
     "data": {
      "text/html": [
       "<table>\n",
       "<thead><tr><th scope=col>Model</th><th scope=col>Prior</th></tr></thead>\n",
       "<tbody>\n",
       "\t<tr><td>Spinner A</td><td>0.25     </td></tr>\n",
       "\t<tr><td>Spinner B</td><td>0.25     </td></tr>\n",
       "\t<tr><td>Spinner C</td><td>0.25     </td></tr>\n",
       "\t<tr><td>Spinner D</td><td>0.25     </td></tr>\n",
       "</tbody>\n",
       "</table>\n"
      ],
      "text/latex": [
       "\\begin{tabular}{r|ll}\n",
       " Model & Prior\\\\\n",
       "\\hline\n",
       "\t Spinner A & 0.25     \\\\\n",
       "\t Spinner B & 0.25     \\\\\n",
       "\t Spinner C & 0.25     \\\\\n",
       "\t Spinner D & 0.25     \\\\\n",
       "\\end{tabular}\n"
      ],
      "text/markdown": [
       "\n",
       "Model | Prior | \n",
       "|---|---|---|---|\n",
       "| Spinner A | 0.25      | \n",
       "| Spinner B | 0.25      | \n",
       "| Spinner C | 0.25      | \n",
       "| Spinner D | 0.25      | \n",
       "\n",
       "\n"
      ],
      "text/plain": [
       "  Model     Prior\n",
       "1 Spinner A 0.25 \n",
       "2 Spinner B 0.25 \n",
       "3 Spinner C 0.25 \n",
       "4 Spinner D 0.25 "
      ]
     },
     "metadata": {},
     "output_type": "display_data"
    }
   ],
   "source": [
    "#Uniform prior-prior probabilities are spread out uniformly\n",
    "bayes_df$Prior <- rep(0.25,4)\n",
    "bayes_df"
   ]
  },
  {
   "cell_type": "markdown",
   "metadata": {},
   "source": [
    "Spin the unknown spinner once.It turns out to be Red. Likelihoods are computed. "
   ]
  },
  {
   "cell_type": "code",
   "execution_count": 12,
   "metadata": {},
   "outputs": [
    {
     "data": {
      "text/html": [
       "<table>\n",
       "<thead><tr><th scope=col>Model</th><th scope=col>Prior</th><th scope=col>Likelihood</th></tr></thead>\n",
       "<tbody>\n",
       "\t<tr><td>Spinner A</td><td>0.25     </td><td>0.33     </td></tr>\n",
       "\t<tr><td>Spinner B</td><td>0.25     </td><td>0.50     </td></tr>\n",
       "\t<tr><td>Spinner C</td><td>0.25     </td><td>0.25     </td></tr>\n",
       "\t<tr><td>Spinner D</td><td>0.25     </td><td>0.17     </td></tr>\n",
       "</tbody>\n",
       "</table>\n"
      ],
      "text/latex": [
       "\\begin{tabular}{r|lll}\n",
       " Model & Prior & Likelihood\\\\\n",
       "\\hline\n",
       "\t Spinner A & 0.25      & 0.33     \\\\\n",
       "\t Spinner B & 0.25      & 0.50     \\\\\n",
       "\t Spinner C & 0.25      & 0.25     \\\\\n",
       "\t Spinner D & 0.25      & 0.17     \\\\\n",
       "\\end{tabular}\n"
      ],
      "text/markdown": [
       "\n",
       "Model | Prior | Likelihood | \n",
       "|---|---|---|---|\n",
       "| Spinner A | 0.25      | 0.33      | \n",
       "| Spinner B | 0.25      | 0.50      | \n",
       "| Spinner C | 0.25      | 0.25      | \n",
       "| Spinner D | 0.25      | 0.17      | \n",
       "\n",
       "\n"
      ],
      "text/plain": [
       "  Model     Prior Likelihood\n",
       "1 Spinner A 0.25  0.33      \n",
       "2 Spinner B 0.25  0.50      \n",
       "3 Spinner C 0.25  0.25      \n",
       "4 Spinner D 0.25  0.17      "
      ]
     },
     "metadata": {},
     "output_type": "display_data"
    }
   ],
   "source": [
    "bayes_df$Likelihood <- round(c(1/3,1/2,1/4,1/6), 2)\n",
    "bayes_df"
   ]
  },
  {
   "cell_type": "markdown",
   "metadata": {},
   "source": [
    "These are the probability of observing red for the 4 spinners.\n",
    "\n",
    "Bayes' rule states that the posterior probability is proportional to Prior probability x Likelihood."
   ]
  },
  {
   "cell_type": "code",
   "execution_count": 13,
   "metadata": {},
   "outputs": [
    {
     "data": {
      "text/html": [
       "<table>\n",
       "<thead><tr><th scope=col>Model</th><th scope=col>Prior</th><th scope=col>Likelihood</th><th scope=col>Product</th><th scope=col>Posterior</th></tr></thead>\n",
       "<tbody>\n",
       "\t<tr><td>Spinner A</td><td>0.25     </td><td>0.33     </td><td>0.0825   </td><td>0.264    </td></tr>\n",
       "\t<tr><td>Spinner B</td><td>0.25     </td><td>0.50     </td><td>0.1250   </td><td>0.400    </td></tr>\n",
       "\t<tr><td>Spinner C</td><td>0.25     </td><td>0.25     </td><td>0.0625   </td><td>0.200    </td></tr>\n",
       "\t<tr><td>Spinner D</td><td>0.25     </td><td>0.17     </td><td>0.0425   </td><td>0.136    </td></tr>\n",
       "</tbody>\n",
       "</table>\n"
      ],
      "text/latex": [
       "\\begin{tabular}{r|lllll}\n",
       " Model & Prior & Likelihood & Product & Posterior\\\\\n",
       "\\hline\n",
       "\t Spinner A & 0.25      & 0.33      & 0.0825    & 0.264    \\\\\n",
       "\t Spinner B & 0.25      & 0.50      & 0.1250    & 0.400    \\\\\n",
       "\t Spinner C & 0.25      & 0.25      & 0.0625    & 0.200    \\\\\n",
       "\t Spinner D & 0.25      & 0.17      & 0.0425    & 0.136    \\\\\n",
       "\\end{tabular}\n"
      ],
      "text/markdown": [
       "\n",
       "Model | Prior | Likelihood | Product | Posterior | \n",
       "|---|---|---|---|\n",
       "| Spinner A | 0.25      | 0.33      | 0.0825    | 0.264     | \n",
       "| Spinner B | 0.25      | 0.50      | 0.1250    | 0.400     | \n",
       "| Spinner C | 0.25      | 0.25      | 0.0625    | 0.200     | \n",
       "| Spinner D | 0.25      | 0.17      | 0.0425    | 0.136     | \n",
       "\n",
       "\n"
      ],
      "text/plain": [
       "  Model     Prior Likelihood Product Posterior\n",
       "1 Spinner A 0.25  0.33       0.0825  0.264    \n",
       "2 Spinner B 0.25  0.50       0.1250  0.400    \n",
       "3 Spinner C 0.25  0.25       0.0625  0.200    \n",
       "4 Spinner D 0.25  0.17       0.0425  0.136    "
      ]
     },
     "metadata": {},
     "output_type": "display_data"
    }
   ],
   "source": [
    "bayesian_crank(bayes_df)"
   ]
  },
  {
   "cell_type": "markdown",
   "metadata": {},
   "source": [
    "Prior x Likelihood = Product\n",
    "Product/sum(Product) = Posterior\n",
    "\n",
    "Initially the probabilities are assigned equally to the 4 spinners.After observing one red spinner,opinions have changed.Now the most likely spinner is Spinner B having probability of 0.40 and less likely spinner is Spinner D having probability of 0.136. This difference is obtained by spinning only once. "
   ]
  },
  {
   "cell_type": "markdown",
   "metadata": {
    "collapsed": true
   },
   "source": [
    "### Sequential Bayes\n",
    "When going for the second spin, it turns out to be blue.The first spin Posterior value becomes the Prior."
   ]
  },
  {
   "cell_type": "code",
   "execution_count": 14,
   "metadata": {},
   "outputs": [
    {
     "data": {
      "text/html": [
       "<table>\n",
       "<thead><tr><th scope=col>Model</th><th scope=col>Prior</th><th scope=col>Likelihood</th></tr></thead>\n",
       "<tbody>\n",
       "\t<tr><td>Spinner A</td><td>0.264    </td><td>0.3333333</td></tr>\n",
       "\t<tr><td>Spinner B</td><td>0.400    </td><td>0.2500000</td></tr>\n",
       "\t<tr><td>Spinner C</td><td>0.200    </td><td>0.5000000</td></tr>\n",
       "\t<tr><td>Spinner D</td><td>0.136    </td><td>0.6666667</td></tr>\n",
       "</tbody>\n",
       "</table>\n"
      ],
      "text/latex": [
       "\\begin{tabular}{r|lll}\n",
       " Model & Prior & Likelihood\\\\\n",
       "\\hline\n",
       "\t Spinner A & 0.264     & 0.3333333\\\\\n",
       "\t Spinner B & 0.400     & 0.2500000\\\\\n",
       "\t Spinner C & 0.200     & 0.5000000\\\\\n",
       "\t Spinner D & 0.136     & 0.6666667\\\\\n",
       "\\end{tabular}\n"
      ],
      "text/markdown": [
       "\n",
       "Model | Prior | Likelihood | \n",
       "|---|---|---|---|\n",
       "| Spinner A | 0.264     | 0.3333333 | \n",
       "| Spinner B | 0.400     | 0.2500000 | \n",
       "| Spinner C | 0.200     | 0.5000000 | \n",
       "| Spinner D | 0.136     | 0.6666667 | \n",
       "\n",
       "\n"
      ],
      "text/plain": [
       "  Model     Prior Likelihood\n",
       "1 Spinner A 0.264 0.3333333 \n",
       "2 Spinner B 0.400 0.2500000 \n",
       "3 Spinner C 0.200 0.5000000 \n",
       "4 Spinner D 0.136 0.6666667 "
      ]
     },
     "metadata": {},
     "output_type": "display_data"
    }
   ],
   "source": [
    "bayes_df$Prior <- c(0.264,0.400,0.200,0.136)\n",
    "bayes_df$Likelihood <- c(1/3,1/4,1/2,2/3)\n",
    "bayes_df"
   ]
  },
  {
   "cell_type": "code",
   "execution_count": 15,
   "metadata": {},
   "outputs": [
    {
     "data": {
      "text/html": [
       "<table>\n",
       "<thead><tr><th scope=col>Model</th><th scope=col>Prior</th><th scope=col>Likelihood</th><th scope=col>Product</th><th scope=col>Posterior</th></tr></thead>\n",
       "<tbody>\n",
       "\t<tr><td>Spinner A </td><td>0.264     </td><td>0.3333333 </td><td>0.08800000</td><td>0.2323944 </td></tr>\n",
       "\t<tr><td>Spinner B </td><td>0.400     </td><td>0.2500000 </td><td>0.10000000</td><td>0.2640845 </td></tr>\n",
       "\t<tr><td>Spinner C </td><td>0.200     </td><td>0.5000000 </td><td>0.10000000</td><td>0.2640845 </td></tr>\n",
       "\t<tr><td>Spinner D </td><td>0.136     </td><td>0.6666667 </td><td>0.09066667</td><td>0.2394366 </td></tr>\n",
       "</tbody>\n",
       "</table>\n"
      ],
      "text/latex": [
       "\\begin{tabular}{r|lllll}\n",
       " Model & Prior & Likelihood & Product & Posterior\\\\\n",
       "\\hline\n",
       "\t Spinner A  & 0.264      & 0.3333333  & 0.08800000 & 0.2323944 \\\\\n",
       "\t Spinner B  & 0.400      & 0.2500000  & 0.10000000 & 0.2640845 \\\\\n",
       "\t Spinner C  & 0.200      & 0.5000000  & 0.10000000 & 0.2640845 \\\\\n",
       "\t Spinner D  & 0.136      & 0.6666667  & 0.09066667 & 0.2394366 \\\\\n",
       "\\end{tabular}\n"
      ],
      "text/markdown": [
       "\n",
       "Model | Prior | Likelihood | Product | Posterior | \n",
       "|---|---|---|---|\n",
       "| Spinner A  | 0.264      | 0.3333333  | 0.08800000 | 0.2323944  | \n",
       "| Spinner B  | 0.400      | 0.2500000  | 0.10000000 | 0.2640845  | \n",
       "| Spinner C  | 0.200      | 0.5000000  | 0.10000000 | 0.2640845  | \n",
       "| Spinner D  | 0.136      | 0.6666667  | 0.09066667 | 0.2394366  | \n",
       "\n",
       "\n"
      ],
      "text/plain": [
       "  Model     Prior Likelihood Product    Posterior\n",
       "1 Spinner A 0.264 0.3333333  0.08800000 0.2323944\n",
       "2 Spinner B 0.400 0.2500000  0.10000000 0.2640845\n",
       "3 Spinner C 0.200 0.5000000  0.10000000 0.2640845\n",
       "4 Spinner D 0.136 0.6666667  0.09066667 0.2394366"
      ]
     },
     "metadata": {},
     "output_type": "display_data"
    }
   ],
   "source": [
    "bayesian_crank(bayes_df)"
   ]
  },
  {
   "cell_type": "markdown",
   "metadata": {},
   "source": [
    "After observing two spins (Red, Blue), Spinners B and C are each slightly more likely than Spinners A and D."
   ]
  },
  {
   "cell_type": "markdown",
   "metadata": {},
   "source": [
    "### Bayes with discrete models"
   ]
  },
  {
   "cell_type": "markdown",
   "metadata": {},
   "source": [
    "construct a Prior for p\n",
    "Lets consider p : 0.3,0.4,0.5,0.6,0.7,0.8 are plausible values.0.5,0.6 are more likely as each of these is twice likely as other values.This indicates weights of the values to be shown."
   ]
  },
  {
   "cell_type": "code",
   "execution_count": 16,
   "metadata": {},
   "outputs": [
    {
     "data": {
      "text/html": [
       "<table>\n",
       "<thead><tr><th scope=col>P</th><th scope=col>weight</th><th scope=col>Prior</th></tr></thead>\n",
       "<tbody>\n",
       "\t<tr><td>0.3  </td><td>1    </td><td>0.125</td></tr>\n",
       "\t<tr><td>0.4  </td><td>1    </td><td>0.125</td></tr>\n",
       "\t<tr><td>0.5  </td><td>2    </td><td>0.250</td></tr>\n",
       "\t<tr><td>0.6  </td><td>2    </td><td>0.250</td></tr>\n",
       "\t<tr><td>0.7  </td><td>1    </td><td>0.125</td></tr>\n",
       "\t<tr><td>0.8  </td><td>1    </td><td>0.125</td></tr>\n",
       "</tbody>\n",
       "</table>\n"
      ],
      "text/latex": [
       "\\begin{tabular}{r|lll}\n",
       " P & weight & Prior\\\\\n",
       "\\hline\n",
       "\t 0.3   & 1     & 0.125\\\\\n",
       "\t 0.4   & 1     & 0.125\\\\\n",
       "\t 0.5   & 2     & 0.250\\\\\n",
       "\t 0.6   & 2     & 0.250\\\\\n",
       "\t 0.7   & 1     & 0.125\\\\\n",
       "\t 0.8   & 1     & 0.125\\\\\n",
       "\\end{tabular}\n"
      ],
      "text/markdown": [
       "\n",
       "P | weight | Prior | \n",
       "|---|---|---|---|---|---|\n",
       "| 0.3   | 1     | 0.125 | \n",
       "| 0.4   | 1     | 0.125 | \n",
       "| 0.5   | 2     | 0.250 | \n",
       "| 0.6   | 2     | 0.250 | \n",
       "| 0.7   | 1     | 0.125 | \n",
       "| 0.8   | 1     | 0.125 | \n",
       "\n",
       "\n"
      ],
      "text/plain": [
       "  P   weight Prior\n",
       "1 0.3 1      0.125\n",
       "2 0.4 1      0.125\n",
       "3 0.5 2      0.250\n",
       "4 0.6 2      0.250\n",
       "5 0.7 1      0.125\n",
       "6 0.8 1      0.125"
      ]
     },
     "metadata": {},
     "output_type": "display_data"
    }
   ],
   "source": [
    "bayes_df <- data.frame(P= seq(0.3,0.8, by = 0.1), weight = c(1,1,2,2,1,1),Prior = c(1,1,2,2,1,1)/8)\n",
    "bayes_df"
   ]
  },
  {
   "cell_type": "markdown",
   "metadata": {},
   "source": [
    "Example: A survey to find favourite day for students to eat out\n",
    "Samples of 20 students are collected randomly in which 12 say \"Friday or Saturday\".This is a binomial experiment.\n"
   ]
  },
  {
   "cell_type": "code",
   "execution_count": 17,
   "metadata": {},
   "outputs": [
    {
     "data": {
      "text/html": [
       "<table>\n",
       "<thead><tr><th scope=col>P</th><th scope=col>Prior</th><th scope=col>Likelihood</th></tr></thead>\n",
       "<tbody>\n",
       "\t<tr><td>0.3  </td><td>0.125</td><td>0.004</td></tr>\n",
       "\t<tr><td>0.4  </td><td>0.125</td><td>0.035</td></tr>\n",
       "\t<tr><td>0.5  </td><td>0.250</td><td>0.120</td></tr>\n",
       "\t<tr><td>0.6  </td><td>0.250</td><td>0.180</td></tr>\n",
       "\t<tr><td>0.7  </td><td>0.125</td><td>0.114</td></tr>\n",
       "\t<tr><td>0.8  </td><td>0.125</td><td>0.022</td></tr>\n",
       "</tbody>\n",
       "</table>\n"
      ],
      "text/latex": [
       "\\begin{tabular}{r|lll}\n",
       " P & Prior & Likelihood\\\\\n",
       "\\hline\n",
       "\t 0.3   & 0.125 & 0.004\\\\\n",
       "\t 0.4   & 0.125 & 0.035\\\\\n",
       "\t 0.5   & 0.250 & 0.120\\\\\n",
       "\t 0.6   & 0.250 & 0.180\\\\\n",
       "\t 0.7   & 0.125 & 0.114\\\\\n",
       "\t 0.8   & 0.125 & 0.022\\\\\n",
       "\\end{tabular}\n"
      ],
      "text/markdown": [
       "\n",
       "P | Prior | Likelihood | \n",
       "|---|---|---|---|---|---|\n",
       "| 0.3   | 0.125 | 0.004 | \n",
       "| 0.4   | 0.125 | 0.035 | \n",
       "| 0.5   | 0.250 | 0.120 | \n",
       "| 0.6   | 0.250 | 0.180 | \n",
       "| 0.7   | 0.125 | 0.114 | \n",
       "| 0.8   | 0.125 | 0.022 | \n",
       "\n",
       "\n"
      ],
      "text/plain": [
       "  P   Prior Likelihood\n",
       "1 0.3 0.125 0.004     \n",
       "2 0.4 0.125 0.035     \n",
       "3 0.5 0.250 0.120     \n",
       "4 0.6 0.250 0.180     \n",
       "5 0.7 0.125 0.114     \n",
       "6 0.8 0.125 0.022     "
      ]
     },
     "metadata": {},
     "output_type": "display_data"
    }
   ],
   "source": [
    "#Calculate Likelihood\n",
    "bayes_df$Likelihood <- dbinom(12, size = 20, prob = bayes_df$P)\n",
    "bayes_df <- bayes_df[,c(1,3,4)]\n",
    "round(bayes_df,3)"
   ]
  },
  {
   "cell_type": "code",
   "execution_count": 18,
   "metadata": {},
   "outputs": [
    {
     "data": {
      "text/html": [
       "<table>\n",
       "<thead><tr><th scope=col>P</th><th scope=col>Prior</th><th scope=col>Likelihood</th><th scope=col>Product</th><th scope=col>Posterior</th></tr></thead>\n",
       "<tbody>\n",
       "\t<tr><td>0.3  </td><td>0.125</td><td>0.004</td><td>0.000</td><td>0.005</td></tr>\n",
       "\t<tr><td>0.4  </td><td>0.125</td><td>0.035</td><td>0.004</td><td>0.046</td></tr>\n",
       "\t<tr><td>0.5  </td><td>0.250</td><td>0.120</td><td>0.030</td><td>0.310</td></tr>\n",
       "\t<tr><td>0.6  </td><td>0.250</td><td>0.180</td><td>0.045</td><td>0.463</td></tr>\n",
       "\t<tr><td>0.7  </td><td>0.125</td><td>0.114</td><td>0.014</td><td>0.147</td></tr>\n",
       "\t<tr><td>0.8  </td><td>0.125</td><td>0.022</td><td>0.003</td><td>0.029</td></tr>\n",
       "</tbody>\n",
       "</table>\n"
      ],
      "text/latex": [
       "\\begin{tabular}{r|lllll}\n",
       " P & Prior & Likelihood & Product & Posterior\\\\\n",
       "\\hline\n",
       "\t 0.3   & 0.125 & 0.004 & 0.000 & 0.005\\\\\n",
       "\t 0.4   & 0.125 & 0.035 & 0.004 & 0.046\\\\\n",
       "\t 0.5   & 0.250 & 0.120 & 0.030 & 0.310\\\\\n",
       "\t 0.6   & 0.250 & 0.180 & 0.045 & 0.463\\\\\n",
       "\t 0.7   & 0.125 & 0.114 & 0.014 & 0.147\\\\\n",
       "\t 0.8   & 0.125 & 0.022 & 0.003 & 0.029\\\\\n",
       "\\end{tabular}\n"
      ],
      "text/markdown": [
       "\n",
       "P | Prior | Likelihood | Product | Posterior | \n",
       "|---|---|---|---|---|---|\n",
       "| 0.3   | 0.125 | 0.004 | 0.000 | 0.005 | \n",
       "| 0.4   | 0.125 | 0.035 | 0.004 | 0.046 | \n",
       "| 0.5   | 0.250 | 0.120 | 0.030 | 0.310 | \n",
       "| 0.6   | 0.250 | 0.180 | 0.045 | 0.463 | \n",
       "| 0.7   | 0.125 | 0.114 | 0.014 | 0.147 | \n",
       "| 0.8   | 0.125 | 0.022 | 0.003 | 0.029 | \n",
       "\n",
       "\n"
      ],
      "text/plain": [
       "  P   Prior Likelihood Product Posterior\n",
       "1 0.3 0.125 0.004      0.000   0.005    \n",
       "2 0.4 0.125 0.035      0.004   0.046    \n",
       "3 0.5 0.250 0.120      0.030   0.310    \n",
       "4 0.6 0.250 0.180      0.045   0.463    \n",
       "5 0.7 0.125 0.114      0.014   0.147    \n",
       "6 0.8 0.125 0.022      0.003   0.029    "
      ]
     },
     "metadata": {},
     "output_type": "display_data"
    }
   ],
   "source": [
    "#Calculate Posterior\n",
    "bayes_df <- bayesian_crank(bayes_df)\n",
    "round(bayes_df,3)"
   ]
  },
  {
   "cell_type": "code",
   "execution_count": 19,
   "metadata": {},
   "outputs": [
    {
     "data": {},
     "metadata": {},
     "output_type": "display_data"
    },
    {
     "data": {
      "image/png": "[encoded data removed]",
      "text/plain": [
       "plot without title"
      ]
     },
     "metadata": {},
     "output_type": "display_data"
    }
   ],
   "source": [
    "#Compare Prior and Posterior\n",
    "prior_post_plot(bayes_df)"
   ]
  },
  {
   "cell_type": "markdown",
   "metadata": {},
   "source": [
    "The plot indicates p is more likely for 0.5 ,0.6 and less likely for 0.3,0.4 and 0.8.\n",
    "Suppose if the probability that p is larger than 0.5, then Prob(p>0.5) = 0.639(calculating the total  posterior value for 0.6,0.7 and 0.8). This indicates that half of the students prefer to eat outside on Friday or Saturday."
   ]
  },
  {
   "cell_type": "markdown",
   "metadata": {},
   "source": [
    "#### Continuous prior\n",
    "Represent prior probabilities by a beta curve. It can take many different shapes and hence useful to express range of opinions.Beta curve depends on a and b, that is called as shape parameters.\n",
    "Example: Have beta(7,10)curve.Need to find the chance that p is between 0.4 and 0.8"
   ]
  },
  {
   "cell_type": "code",
   "execution_count": 20,
   "metadata": {},
   "outputs": [
    {
     "data": {},
     "metadata": {},
     "output_type": "display_data"
    },
    {
     "data": {
      "image/png": "[encoded data removed]",
      "text/plain": [
       "plot without title"
      ]
     },
     "metadata": {},
     "output_type": "display_data"
    }
   ],
   "source": [
    "beta_area(0.4,0.8,c(7,10))"
   ]
  },
  {
   "cell_type": "markdown",
   "metadata": {},
   "source": [
    "   A quantile is the value of the portion p such that the area or probability to the left of the value is a given number."
   ]
  },
  {
   "cell_type": "code",
   "execution_count": 31,
   "metadata": {},
   "outputs": [
    {
     "data": {},
     "metadata": {},
     "output_type": "display_data"
    },
    {
     "data": {
      "image/png": "[encoded data removed]",
      "text/plain": [
       "plot without title"
      ]
     },
     "metadata": {},
     "output_type": "display_data"
    }
   ],
   "source": [
    "#Finding 0.5 quantile\n",
    "beta_quantile(0.5,c(7,10))"
   ]
  },
  {
   "cell_type": "markdown",
   "metadata": {},
   "source": [
    "beta_quantile computes to be 0.408.The chance that p is smaller than 0.408 is 0.5.\n",
    "Want to use beta curve to represent the prior opinion about p.It is hard to pick values a and b directly.Can indirectly figure out a and b specifying two quantiles of the beta curve and find the beta curve that matches with quantiles."
   ]
  },
  {
   "cell_type": "code",
   "execution_count": 33,
   "metadata": {},
   "outputs": [
    {
     "data": {
      "text/html": [
       "<ol class=list-inline>\n",
       "\t<li>3.06</li>\n",
       "\t<li>2.56</li>\n",
       "</ol>\n"
      ],
      "text/latex": [
       "\\begin{enumerate*}\n",
       "\\item 3.06\n",
       "\\item 2.56\n",
       "\\end{enumerate*}\n"
      ],
      "text/markdown": [
       "1. 3.06\n",
       "2. 2.56\n",
       "\n",
       "\n"
      ],
      "text/plain": [
       "[1] 3.06 2.56"
      ]
     },
     "metadata": {},
     "output_type": "display_data"
    }
   ],
   "source": [
    "#Specify 0.50 and 0.90 quantiles\n",
    "p50 <- list(x = 0.55, p=0.5)\n",
    "p90 <- list(x = 0.80, p=0.9)\n",
    "beta.select(p50,p90)"
   ]
  },
  {
   "cell_type": "markdown",
   "metadata": {},
   "source": [
    "These values correspond to a anb b shape parameters. To make sure this prior is reasonable, need to compute several probabilities and quantiles for beta curve."
   ]
  }
 ],
 "metadata": {
  "kernelspec": {
   "display_name": "R",
   "language": "R",
   "name": "ir"
  },
  "language_info": {
   "codemirror_mode": "r",
   "file_extension": ".r",
   "mimetype": "text/x-r-source",
   "name": "R",
   "pygments_lexer": "r",
   "version": "3.4.2"
  }
 },
 "nbformat": 4,
 "nbformat_minor": 2
}
